{
  "nbformat": 4,
  "nbformat_minor": 0,
  "metadata": {
    "colab": {
      "name": "HW 3 _ ML.ipynb",
      "provenance": []
    },
    "kernelspec": {
      "name": "python3",
      "display_name": "Python 3"
    },
    "language_info": {
      "name": "python"
    }
  },
  "cells": [
    {
      "cell_type": "code",
      "metadata": {
        "colab": {
          "resources": {
            "http://localhost:8080/nbextensions/google.colab/files.js": {
              "data": "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",
              "ok": true,
              "headers": [
                [
                  "content-type",
                  "application/javascript"
                ]
              ],
              "status": 200,
              "status_text": ""
            }
          },
          "base_uri": "https://localhost:8080/",
          "height": 95
        },
        "id": "SGpQ1Kq4CcjU",
        "outputId": "c28d3f7f-136f-4125-a7f2-9ad343fe6096"
      },
      "source": [
        "from google.colab import files\n",
        "uploaded = files.upload()"
      ],
      "execution_count": null,
      "outputs": [
        {
          "output_type": "display_data",
          "data": {
            "text/html": [
              "\n",
              "     <input type=\"file\" id=\"files-cc494a4e-13b9-4701-a0f7-5e1d36154d48\" name=\"files[]\" multiple disabled\n",
              "        style=\"border:none\" />\n",
              "     <output id=\"result-cc494a4e-13b9-4701-a0f7-5e1d36154d48\">\n",
              "      Upload widget is only available when the cell has been executed in the\n",
              "      current browser session. Please rerun this cell to enable.\n",
              "      </output>\n",
              "      <script src=\"/nbextensions/google.colab/files.js\"></script> "
            ],
            "text/plain": [
              "<IPython.core.display.HTML object>"
            ]
          },
          "metadata": {
            "tags": []
          }
        }
      ]
    },
    {
      "cell_type": "code",
      "metadata": {
        "id": "uhm7jprPDIjF"
      },
      "source": [
        "import pandas as pd\n",
        "import numpy as np\n",
        "import matplotlib.pyplot as plt\n",
        "import seaborn as sns\n"
      ],
      "execution_count": null,
      "outputs": []
    },
    {
      "cell_type": "code",
      "metadata": {
        "colab": {
          "base_uri": "https://localhost:8080/",
          "height": 340
        },
        "id": "jX2GIHRpDFTk",
        "outputId": "bd16fa6e-83ee-4869-e398-7b188210f197"
      },
      "source": [
        "dataset = pd.read_csv(\"FirstDataset.txt\" , delimiter='\\t', header=None)\n",
        "dataset.columns=['x' , 'y']\n",
        "dataset.head(10)"
      ],
      "execution_count": null,
      "outputs": [
        {
          "output_type": "execute_result",
          "data": {
            "text/html": [
              "<div>\n",
              "<style scoped>\n",
              "    .dataframe tbody tr th:only-of-type {\n",
              "        vertical-align: middle;\n",
              "    }\n",
              "\n",
              "    .dataframe tbody tr th {\n",
              "        vertical-align: top;\n",
              "    }\n",
              "\n",
              "    .dataframe thead th {\n",
              "        text-align: right;\n",
              "    }\n",
              "</style>\n",
              "<table border=\"1\" class=\"dataframe\">\n",
              "  <thead>\n",
              "    <tr style=\"text-align: right;\">\n",
              "      <th></th>\n",
              "      <th>x</th>\n",
              "      <th>y</th>\n",
              "    </tr>\n",
              "  </thead>\n",
              "  <tbody>\n",
              "    <tr>\n",
              "      <th>0</th>\n",
              "      <td>-2.996219</td>\n",
              "      <td>1.424365</td>\n",
              "    </tr>\n",
              "    <tr>\n",
              "      <th>1</th>\n",
              "      <td>-2.987382</td>\n",
              "      <td>0.372525</td>\n",
              "    </tr>\n",
              "    <tr>\n",
              "      <th>2</th>\n",
              "      <td>-2.980072</td>\n",
              "      <td>-0.142835</td>\n",
              "    </tr>\n",
              "    <tr>\n",
              "      <th>3</th>\n",
              "      <td>-2.968503</td>\n",
              "      <td>-0.296066</td>\n",
              "    </tr>\n",
              "    <tr>\n",
              "      <th>4</th>\n",
              "      <td>-2.966581</td>\n",
              "      <td>-0.106994</td>\n",
              "    </tr>\n",
              "    <tr>\n",
              "      <th>5</th>\n",
              "      <td>-2.964482</td>\n",
              "      <td>0.466139</td>\n",
              "    </tr>\n",
              "    <tr>\n",
              "      <th>6</th>\n",
              "      <td>-2.964113</td>\n",
              "      <td>-0.495662</td>\n",
              "    </tr>\n",
              "    <tr>\n",
              "      <th>7</th>\n",
              "      <td>-2.962814</td>\n",
              "      <td>0.333751</td>\n",
              "    </tr>\n",
              "    <tr>\n",
              "      <th>8</th>\n",
              "      <td>-2.951097</td>\n",
              "      <td>0.154589</td>\n",
              "    </tr>\n",
              "    <tr>\n",
              "      <th>9</th>\n",
              "      <td>-2.932613</td>\n",
              "      <td>-0.643678</td>\n",
              "    </tr>\n",
              "  </tbody>\n",
              "</table>\n",
              "</div>"
            ],
            "text/plain": [
              "          x         y\n",
              "0 -2.996219  1.424365\n",
              "1 -2.987382  0.372525\n",
              "2 -2.980072 -0.142835\n",
              "3 -2.968503 -0.296066\n",
              "4 -2.966581 -0.106994\n",
              "5 -2.964482  0.466139\n",
              "6 -2.964113 -0.495662\n",
              "7 -2.962814  0.333751\n",
              "8 -2.951097  0.154589\n",
              "9 -2.932613 -0.643678"
            ]
          },
          "metadata": {
            "tags": []
          },
          "execution_count": 5
        }
      ]
    },
    {
      "cell_type": "code",
      "metadata": {
        "colab": {
          "base_uri": "https://localhost:8080/",
          "height": 279
        },
        "id": "yzeELQ_REsZ0",
        "outputId": "dee2c3d5-7792-4aba-9e1e-4497fb19f205"
      },
      "source": [
        "dataset.plot(x='x' , y='y' , color=\"pink\")\n",
        "plt.show()"
      ],
      "execution_count": null,
      "outputs": [
        {
          "output_type": "display_data",
          "data": {
            "image/png": "[encoded data removed]",
            "text/plain": [
              "<Figure size 432x288 with 1 Axes>"
            ]
          },
          "metadata": {
            "tags": [],
            "needs_background": "light"
          }
        }
      ]
    },
    {
      "cell_type": "code",
      "metadata": {
        "id": "EdxzMH_pEcoz"
      },
      "source": [
        "mean = dataset['x'].mean()\n",
        "std = dataset['x'].std()\n",
        "dataset['x'] = (dataset['x'] - mean) / std\n"
      ],
      "execution_count": null,
      "outputs": []
    },
    {
      "cell_type": "code",
      "metadata": {
        "colab": {
          "base_uri": "https://localhost:8080/",
          "height": 340
        },
        "id": "ICogmm9jLbVm",
        "outputId": "e16d2b58-8460-4e5c-fbeb-b6bdc1507198"
      },
      "source": [
        "dataset.head(10)"
      ],
      "execution_count": null,
      "outputs": [
        {
          "output_type": "execute_result",
          "data": {
            "text/html": [
              "<div>\n",
              "<style scoped>\n",
              "    .dataframe tbody tr th:only-of-type {\n",
              "        vertical-align: middle;\n",
              "    }\n",
              "\n",
              "    .dataframe tbody tr th {\n",
              "        vertical-align: top;\n",
              "    }\n",
              "\n",
              "    .dataframe thead th {\n",
              "        text-align: right;\n",
              "    }\n",
              "</style>\n",
              "<table border=\"1\" class=\"dataframe\">\n",
              "  <thead>\n",
              "    <tr style=\"text-align: right;\">\n",
              "      <th></th>\n",
              "      <th>x</th>\n",
              "      <th>y</th>\n",
              "    </tr>\n",
              "  </thead>\n",
              "  <tbody>\n",
              "    <tr>\n",
              "      <th>0</th>\n",
              "      <td>-1.709163</td>\n",
              "      <td>1.424365</td>\n",
              "    </tr>\n",
              "    <tr>\n",
              "      <th>1</th>\n",
              "      <td>-1.693907</td>\n",
              "      <td>0.372525</td>\n",
              "    </tr>\n",
              "    <tr>\n",
              "      <th>2</th>\n",
              "      <td>-1.681287</td>\n",
              "      <td>-0.142835</td>\n",
              "    </tr>\n",
              "    <tr>\n",
              "      <th>3</th>\n",
              "      <td>-1.661317</td>\n",
              "      <td>-0.296066</td>\n",
              "    </tr>\n",
              "    <tr>\n",
              "      <th>4</th>\n",
              "      <td>-1.657999</td>\n",
              "      <td>-0.106994</td>\n",
              "    </tr>\n",
              "    <tr>\n",
              "      <th>5</th>\n",
              "      <td>-1.654376</td>\n",
              "      <td>0.466139</td>\n",
              "    </tr>\n",
              "    <tr>\n",
              "      <th>6</th>\n",
              "      <td>-1.653738</td>\n",
              "      <td>-0.495662</td>\n",
              "    </tr>\n",
              "    <tr>\n",
              "      <th>7</th>\n",
              "      <td>-1.651497</td>\n",
              "      <td>0.333751</td>\n",
              "    </tr>\n",
              "    <tr>\n",
              "      <th>8</th>\n",
              "      <td>-1.631270</td>\n",
              "      <td>0.154589</td>\n",
              "    </tr>\n",
              "    <tr>\n",
              "      <th>9</th>\n",
              "      <td>-1.599361</td>\n",
              "      <td>-0.643678</td>\n",
              "    </tr>\n",
              "  </tbody>\n",
              "</table>\n",
              "</div>"
            ],
            "text/plain": [
              "          x         y\n",
              "0 -1.709163  1.424365\n",
              "1 -1.693907  0.372525\n",
              "2 -1.681287 -0.142835\n",
              "3 -1.661317 -0.296066\n",
              "4 -1.657999 -0.106994\n",
              "5 -1.654376  0.466139\n",
              "6 -1.653738 -0.495662\n",
              "7 -1.651497  0.333751\n",
              "8 -1.631270  0.154589\n",
              "9 -1.599361 -0.643678"
            ]
          },
          "metadata": {
            "tags": []
          },
          "execution_count": 8
        }
      ]
    },
    {
      "cell_type": "code",
      "metadata": {
        "colab": {
          "base_uri": "https://localhost:8080/",
          "height": 279
        },
        "id": "7Uje_65aFaWo",
        "outputId": "552e72aa-3e60-46dc-a0f6-b866f351f8ed"
      },
      "source": [
        "dataset.plot(x='x' , y='y', color=\"orange\")\n",
        "plt.show()"
      ],
      "execution_count": null,
      "outputs": [
        {
          "output_type": "display_data",
          "data": {
            "image/png": "[encoded data removed]",
            "text/plain": [
              "<Figure size 432x288 with 1 Axes>"
            ]
          },
          "metadata": {
            "tags": [],
            "needs_background": "light"
          }
        }
      ]
    },
    {
      "cell_type": "code",
      "metadata": {
        "colab": {
          "base_uri": "https://localhost:8080/",
          "height": 352
        },
        "id": "zrZM-T7NHoBY",
        "outputId": "74d90fd9-e967-4aa7-e48e-eb9f5719f1b3"
      },
      "source": [
        "sns.scatterplot(dataset['x'] , dataset['y'] , linewidth = 0.5 , color = \"red\")\n"
      ],
      "execution_count": null,
      "outputs": [
        {
          "output_type": "stream",
          "text": [
            "/usr/local/lib/python3.7/dist-packages/seaborn/_decorators.py:43: FutureWarning: Pass the following variables as keyword args: x, y. From version 0.12, the only valid positional argument will be `data`, and passing other arguments without an explicit keyword will result in an error or misinterpretation.\n",
            "  FutureWarning\n"
          ],
          "name": "stderr"
        },
        {
          "output_type": "execute_result",
          "data": {
            "text/plain": [
              "<matplotlib.axes._subplots.AxesSubplot at 0x7f382fee3b50>"
            ]
          },
          "metadata": {
            "tags": []
          },
          "execution_count": 10
        },
        {
          "output_type": "display_data",
          "data": {
            "image/png": "[encoded data removed]",
            "text/plain": [
              "<Figure size 432x288 with 1 Axes>"
            ]
          },
          "metadata": {
            "tags": [],
            "needs_background": "light"
          }
        }
      ]
    },
    {
      "cell_type": "code",
      "metadata": {
        "colab": {
          "base_uri": "https://localhost:8080/"
        },
        "id": "wRG0pYiVJCxu",
        "outputId": "f1f7db31-5a48-4206-c3b3-c19e8a423300"
      },
      "source": [
        "features_arr= dataset['x'].to_numpy()\n",
        "features_arr.reshape(-1,1)\n",
        "print(features_arr.round(2))"
      ],
      "execution_count": null,
      "outputs": [
        {
          "output_type": "stream",
          "text": [
            "[-1.71 -1.69 -1.68 -1.66 -1.66 -1.65 -1.65 -1.65 -1.63 -1.6  -1.58 -1.57\n",
            " -1.57 -1.55 -1.54 -1.54 -1.52 -1.52 -1.51 -1.51 -1.51 -1.5  -1.49 -1.49\n",
            " -1.47 -1.47 -1.46 -1.46 -1.45 -1.43 -1.41 -1.4  -1.38 -1.38 -1.38 -1.37\n",
            " -1.36 -1.35 -1.33 -1.31 -1.3  -1.29 -1.29 -1.27 -1.26 -1.26 -1.25 -1.24\n",
            " -1.22 -1.22 -1.21 -1.19 -1.19 -1.18 -1.16 -1.16 -1.16 -1.16 -1.15 -1.15\n",
            " -1.15 -1.14 -1.14 -1.12 -1.11 -1.11 -1.06 -1.01 -0.98 -0.98 -0.97 -0.95\n",
            " -0.95 -0.95 -0.92 -0.91 -0.91 -0.9  -0.87 -0.86 -0.86 -0.82 -0.81 -0.8\n",
            " -0.79 -0.78 -0.78 -0.76 -0.75 -0.75 -0.74 -0.73 -0.71 -0.7  -0.68 -0.66\n",
            " -0.66 -0.66 -0.65 -0.65 -0.62 -0.61 -0.6  -0.59 -0.58 -0.58 -0.56 -0.56\n",
            " -0.55 -0.53 -0.53 -0.51 -0.51 -0.5  -0.5  -0.48 -0.48 -0.48 -0.47 -0.45\n",
            " -0.42 -0.39 -0.38 -0.37 -0.35 -0.35 -0.35 -0.34 -0.34 -0.34 -0.32 -0.3\n",
            " -0.3  -0.3  -0.29 -0.28 -0.26 -0.22 -0.19 -0.18 -0.18 -0.17 -0.16 -0.14\n",
            " -0.14 -0.14 -0.13 -0.13 -0.13 -0.12 -0.11 -0.11 -0.1  -0.1  -0.04 -0.03\n",
            " -0.03 -0.02 -0.01 -0.01 -0.    0.    0.02  0.03  0.04  0.06  0.12  0.12\n",
            "  0.13  0.14  0.15  0.15  0.18  0.18  0.18  0.19  0.2   0.2   0.24  0.25\n",
            "  0.27  0.27  0.28  0.29  0.3   0.31  0.31  0.31  0.31  0.32  0.34  0.36\n",
            "  0.36  0.37  0.38  0.38  0.41  0.42  0.43  0.43  0.44  0.45  0.45  0.46\n",
            "  0.47  0.48  0.49  0.54  0.54  0.55  0.55  0.56  0.57  0.57  0.59  0.6\n",
            "  0.6   0.6   0.6   0.61  0.61  0.61  0.62  0.64  0.66  0.67  0.69  0.72\n",
            "  0.74  0.75  0.79  0.79  0.8   0.81  0.81  0.81  0.82  0.83  0.85  0.86\n",
            "  0.87  0.88  0.88  0.9   0.92  0.94  0.94  0.96  0.96  0.97  0.99  1.02\n",
            "  1.03  1.03  1.05  1.07  1.07  1.08  1.09  1.09  1.09  1.09  1.1   1.1\n",
            "  1.12  1.13  1.14  1.15  1.17  1.18  1.22  1.23  1.23  1.23  1.24  1.24\n",
            "  1.24  1.25  1.25  1.26  1.27  1.27  1.27  1.28  1.3   1.31  1.31  1.32\n",
            "  1.33  1.35  1.38  1.38  1.41  1.41  1.42  1.42  1.44  1.45  1.46  1.47\n",
            "  1.48  1.49  1.55  1.55  1.55  1.58  1.6   1.63  1.64  1.66  1.66  1.68\n",
            "  1.68  1.7   1.71  1.71  1.71  1.73  1.73  1.73]\n"
          ],
          "name": "stdout"
        }
      ]
    },
    {
      "cell_type": "code",
      "metadata": {
        "colab": {
          "base_uri": "https://localhost:8080/"
        },
        "id": "LlkAM55hKuZ_",
        "outputId": "7b702087-e6d1-4739-9d01-f36ef27a5f3e"
      },
      "source": [
        "class_arr=dataset['y'].to_numpy()\n",
        "class_arr.reshape(-1,1)\n",
        "print(class_arr.round(3))"
      ],
      "execution_count": null,
      "outputs": [
        {
          "output_type": "stream",
          "text": [
            "[ 1.424  0.373 -0.143 -0.296 -0.107  0.466 -0.496  0.334  0.155 -0.644\n",
            " -0.426 -1.075 -1.744 -1.694 -1.336 -1.019 -1.339 -2.445 -1.135 -1.66\n",
            " -2.389 -1.674 -2.583 -2.577 -2.85  -2.211 -1.959 -2.698 -2.433 -2.936\n",
            " -2.966 -2.59  -3.562 -3.546 -3.5   -3.577 -3.497 -4.042 -4.438 -3.519\n",
            " -4.186 -3.815 -3.703 -5.155 -4.292 -4.34  -4.095 -4.261 -4.02  -5.\n",
            " -3.916 -5.74  -5.485 -4.86  -5.653 -5.227 -4.972 -5.279 -5.251 -5.548\n",
            " -4.007 -5.289 -5.505 -5.126 -4.803 -5.242 -5.395 -6.527 -5.723 -6.538\n",
            " -6.788 -7.011 -6.448 -6.616 -6.73  -6.662 -6.914 -6.744 -6.644 -6.571\n",
            " -6.561 -7.061 -5.99  -6.496 -6.219 -7.038 -7.276 -7.517 -6.806 -6.976\n",
            " -7.731 -7.566 -6.828 -6.563 -7.35  -7.461 -7.229 -7.979 -8.234 -7.215\n",
            " -7.529 -7.753 -7.126 -8.011 -7.771 -7.21  -7.104 -8.209 -7.116 -7.843\n",
            " -7.647 -7.442 -7.644 -7.713 -7.561 -8.149 -7.839 -8.253 -6.798 -7.667\n",
            " -7.192 -7.007 -6.963 -7.745 -7.466 -7.243 -8.247 -7.21  -7.758 -7.542\n",
            " -7.395 -7.951 -7.288 -7.537 -8.06  -7.765 -7.892 -8.002 -7.274 -7.169\n",
            " -7.925 -7.644 -6.568 -7.456 -7.951 -6.809 -7.96  -6.825 -7.599 -7.524\n",
            " -6.938 -7.288 -7.453 -6.872 -7.019 -6.907 -6.402 -6.426 -5.992 -7.159\n",
            " -7.068 -6.856 -6.714 -6.743 -7.767 -6.984 -6.314 -6.605 -7.064 -6.53\n",
            " -6.883 -7.53  -6.687 -5.753 -5.931 -6.748 -6.115 -6.378 -6.553 -5.803\n",
            " -6.392 -6.676 -6.193 -5.497 -5.429 -6.439 -6.413 -5.94  -5.818 -5.729\n",
            " -6.381 -6.398 -5.912 -6.79  -6.392 -5.503 -5.742 -5.699 -5.687 -5.976\n",
            " -5.929 -5.548 -5.745 -5.322 -5.832 -5.947 -5.674 -4.859 -4.506 -5.713\n",
            " -4.787 -5.023 -4.511 -4.929 -5.12  -5.751 -4.63  -5.617 -5.008 -5.599\n",
            " -4.86  -4.696 -5.01  -4.931 -5.842 -5.227 -5.175 -4.379 -4.692 -5.168\n",
            " -4.498 -4.259 -3.918 -3.842 -4.385 -4.216 -4.125 -3.709 -4.568 -4.493\n",
            " -4.054 -4.48  -4.097 -3.66  -3.674 -3.902 -4.468 -3.65  -4.663 -4.022\n",
            " -3.549 -3.742 -4.221 -3.041 -4.454 -3.969 -4.099 -3.646 -3.056 -3.119\n",
            " -3.336 -3.128 -3.091 -2.809 -2.47  -3.057 -4.108 -3.423 -3.512 -2.912\n",
            " -3.044 -3.074 -2.143 -2.451 -3.196 -2.947 -1.883 -3.105 -3.622 -3.287\n",
            " -2.011 -2.515 -2.687 -2.932 -3.093 -2.412 -2.334 -1.692 -2.177 -1.997\n",
            " -2.967 -2.453 -1.948 -1.99  -2.344 -1.38  -1.649 -2.139 -2.173 -1.797\n",
            " -1.344 -2.481 -2.124 -0.868 -2.124 -1.417 -1.622 -1.293 -1.082 -2.037\n",
            " -0.756 -1.005 -1.233 -1.062 -0.927 -0.353 -0.689 -0.727 -1.226 -0.601]\n"
          ],
          "name": "stdout"
        }
      ]
    },
    {
      "cell_type": "markdown",
      "metadata": {
        "id": "rQfUC5CEtHr2"
      },
      "source": [
        "Closed Form"
      ]
    },
    {
      "cell_type": "code",
      "metadata": {
        "colab": {
          "base_uri": "https://localhost:8080/"
        },
        "id": "lLOqnxqXtGIE",
        "outputId": "e0702b5f-b10c-4d3f-e94b-1b19dc0c2178"
      },
      "source": [
        "features_arr = np.array(dataset['x']).reshape((-1,1))\n",
        "features_arr = np.concatenate((np.ones(features_arr.shape), features_arr), axis=1)\n",
        "class_arr = np.array(dataset['y']).reshape((-1,1))\n",
        "best_weight = np.linalg.inv(features_arr.transpose().dot(features_arr)).dot(features_arr.transpose()).dot(class_arr)\n",
        "print(best_weight)\n"
      ],
      "execution_count": null,
      "outputs": [
        {
          "output_type": "stream",
          "text": [
            "[[-4.80074258]\n",
            " [ 0.48398715]]\n"
          ],
          "name": "stdout"
        }
      ]
    },
    {
      "cell_type": "markdown",
      "metadata": {
        "id": "-PNbjMslun83"
      },
      "source": [
        "Gradient Discent"
      ]
    },
    {
      "cell_type": "code",
      "metadata": {
        "id": "3S49w10IK9z5",
        "colab": {
          "base_uri": "https://localhost:8080/"
        },
        "outputId": "7963b22a-16bb-4bab-91e2-f6b8b4d70b9e"
      },
      "source": [
        "weight = np.array([[0.0], [0.0]])\n",
        "for i in range(60):\n",
        "    weight -= 0.001*((features_arr.transpose().dot(features_arr)).dot(weight) - features_arr.transpose().dot(class_arr))\n",
        "print(weight)"
      ],
      "execution_count": null,
      "outputs": [
        {
          "output_type": "stream",
          "text": [
            "[[-4.80074258]\n",
            " [ 0.48398715]]\n"
          ],
          "name": "stdout"
        }
      ]
    },
    {
      "cell_type": "code",
      "metadata": {
        "colab": {
          "base_uri": "https://localhost:8080/",
          "height": 265
        },
        "id": "6VE8m6IZu5sL",
        "outputId": "d7d1c6cd-1671-4edf-cce6-aaca19c1fd05"
      },
      "source": [
        "plt.plot(np.array(dataset['x']), np.array(dataset['y']), color=\"red\")\n",
        "plt.plot(np.array(dataset['x']), features_arr.dot(weight), color=\"black\")\n",
        "plt.show()"
      ],
      "execution_count": null,
      "outputs": [
        {
          "output_type": "display_data",
          "data": {
            "image/png": "[encoded data removed]",
            "text/plain": [
              "<Figure size 432x288 with 1 Axes>"
            ]
          },
          "metadata": {
            "tags": [],
            "needs_background": "light"
          }
        }
      ]
    },
    {
      "cell_type": "markdown",
      "metadata": {
        "id": "R8jEVuLTvKRU"
      },
      "source": [
        "<div dir=\"rtl\"> \n",
        "      روش اول سریعتر است زیرا تعداد ویژگی‌ها کمتر است ولی به طور کلی روش دوم از اردر توان سوم تعداد ویژگی‌هاست و سریعتر است\n",
        "     \n",
        "</div>"
      ]
    },
    {
      "cell_type": "markdown",
      "metadata": {
        "id": "Uro9cvRXvi95"
      },
      "source": [
        "**1**"
      ]
    },
    {
      "cell_type": "code",
      "metadata": {
        "colab": {
          "base_uri": "https://localhost:8080/"
        },
        "id": "JgK6JSoFvHPo",
        "outputId": "a248d65e-93c6-4967-9b63-272a92b23c37"
      },
      "source": [
        "def MSE_error(x, y, w):\n",
        "    result = x.dot(w) - y\n",
        "    return np.mean(result**2)\n",
        "\n",
        "\n",
        "dataset = pd.read_csv('SecondDataset.txt', delimiter = \"\\t\", header=None)\n",
        "dataset.columns = [\"x1\", \"x2\", \"x3\", \"y\"]\n",
        "dataset[[\"x1\", \"x2\", \"x3\"]] = (dataset[[\"x1\", \"x2\", \"x3\"]] - dataset[[\"x1\", \"x2\", \"x3\"]].mean()) / dataset[[\"x1\", \"x2\", \"x3\"]].std()\n",
        "\n",
        "tr , ts = [] , []\n",
        "weights = np.array([[0.0], [0.0], [0.0], [0.0]])\n",
        "iter=10000\n",
        "landa=-0.0001\n",
        "rand = list(np.random.choice(data.shape[0], int(0.8*data.shape[0]), replace=False))\n",
        "for r in range(dataset.shape[0]):\n",
        "    if r in rand:\n",
        "        tr.append(True)\n",
        "        ts.append(False)\n",
        "    else:\n",
        "        tr.append(False)\n",
        "        ts.append(True)\n",
        "trainset,testset = dataset[tr] ,dataset[ts]\n",
        "features_arr = trainset[[\"x1\", \"x2\", \"x3\"]].to_numpy()\n",
        "features_arr = np.concatenate((np.ones((features_arr.shape[0], 1)), features_arr), axis=1)\n",
        "class_arr = np.array(trainset['y']).reshape((-1,1))\n",
        "for i in range(iter):\n",
        "    weights += landa*((features_arr.transpose().dot(features_arr)).dot(weights) - features_arr.transpose().dot(class_arr))\n",
        "print(weights)\n",
        "\n",
        "print(\"training error\")\n",
        "print(MSE_error(features_arr, class_arr, weights))\n",
        "\n",
        "features_arr = testset[[\"x1\", \"x2\", \"x3\"]].to_numpy()\n",
        "features_arr = np.concatenate((np.ones((features_arr.shape[0], 1)), features_arr), axis=1)\n",
        "class_arr = np.array(testset['y']).reshape((-1,1))\n",
        "print(\"test error\")\n",
        "print(MSE_error(features_arr, class_arr, weights))"
      ],
      "execution_count": null,
      "outputs": [
        {
          "output_type": "stream",
          "text": [
            "[[22.38173837]\n",
            " [-1.88407004]\n",
            " [-1.63116109]\n",
            " [ 5.40008977]]\n",
            "training error\n",
            "36.87173907046461\n",
            "test error\n",
            "37.16806071368712\n"
          ],
          "name": "stdout"
        }
      ]
    },
    {
      "cell_type": "markdown",
      "metadata": {
        "id": "1lzi1fStzhv7"
      },
      "source": [
        "**2**"
      ]
    },
    {
      "cell_type": "code",
      "metadata": {
        "colab": {
          "base_uri": "https://localhost:8080/"
        },
        "id": "zZyBPGz7zjES",
        "outputId": "346f1891-0c1b-4c6e-fbc0-9a0addc3cd94"
      },
      "source": [
        "dataset = pd.read_csv('SecondDataset.txt', delimiter = \"\\t\", header=None)\n",
        "dataset.columns = [\"x1\", \"x2\", \"x3\", \"y\"]\n",
        "dataset['x1x2'], dataset['x2x3'], dataset['x1x3'], dataset['x1x2x3'], dataset['x1x1x2'], dataset['x1x1x3'], dataset['x2x2x1'], dataset['x2x2x3'], dataset['x3x3x1'], dataset['x3x3x2'], dataset['x1x1x1'], dataset['x2x2x2'], dataset['x3x3x3'] = [dataset['x1']*dataset['x2'], dataset['x2']*dataset['x3'], dataset['x1']*dataset['x3'], dataset['x1']*dataset['x2']*dataset['x3'], dataset['x1']*dataset['x1']*dataset['x2'], dataset['x1']*dataset['x1']*dataset['x3'], dataset['x2']*dataset['x2']*dataset['x1'], dataset['x2']*dataset['x2']*dataset['x3'], dataset['x1']*dataset['x3']*dataset['x3'], dataset['x3']*dataset['x2']*dataset['x3'], dataset['x1']*dataset['x1']*dataset['x1'], dataset['x2']*dataset['x2']*dataset['x2'], dataset['x3']*dataset['x3']*dataset['x3']]\n",
        "col = dataset.columns[:3].append(dataset.columns[4:])\n",
        "dataset[col] = (dataset[col] - dataset[col].mean()) / dataset[col].std()\n",
        "trainset ,testset  = dataset[tr] ,dataset[ts]\n",
        "\n",
        "features_arr = trainset[col].to_numpy()\n",
        "features_arr = np.concatenate((np.ones((features_arr.shape[0], 1)), features_arr), axis=1)\n",
        "class_arr = np.array(trainset['y']).reshape((-1,1))\n",
        "weights = np.array([[0.0] for i in range(17)])\n",
        "iter=10000\n",
        "landa=0.0001\n",
        "for i in range(iter):\n",
        "    weights -= landa*((features_arr.transpose().dot(features_arr)).dot(weights) - features_arr.transpose().dot(class_arr))\n",
        "print(weights)\n",
        "\n",
        "print(\"train_error\")\n",
        "print(MSE(features_arr, class_arr, weights))\n",
        "\n",
        "features_arr = testset[col].to_numpy()\n",
        "features_arr = np.concatenate((np.ones((features_arr.shape[0], 1)), features_arr), axis=1)\n",
        "class_arr = np.array(testset['y']).reshape((-1,1))\n",
        "print(\"test error\")\n",
        "print(MSE(features_arr, class_arr, weights))"
      ],
      "execution_count": null,
      "outputs": [
        {
          "output_type": "stream",
          "text": [
            "[[22.34496788]\n",
            " [ 7.98659269]\n",
            " [ 7.36220339]\n",
            " [-0.43132596]\n",
            " [ 0.91013023]\n",
            " [-2.47129814]\n",
            " [ 1.53196935]\n",
            " [-5.33297207]\n",
            " [-0.24771669]\n",
            " [ 3.97709113]\n",
            " [-6.07873313]\n",
            " [-4.76488273]\n",
            " [-4.72005843]\n",
            " [-2.91429237]\n",
            " [-0.06084386]\n",
            " [ 1.6513386 ]\n",
            " [11.6494127 ]]\n",
            "train_error\n",
            "23.361287111329197\n",
            "test error\n",
            "33.058441100056356\n"
          ],
          "name": "stdout"
        }
      ]
    },
    {
      "cell_type": "markdown",
      "metadata": {
        "id": "dKZq57Fj3SmJ"
      },
      "source": [
        "**3**"
      ]
    },
    {
      "cell_type": "code",
      "metadata": {
        "colab": {
          "base_uri": "https://localhost:8080/"
        },
        "id": "jVEgqUot3SMp",
        "outputId": "a4f22518-712d-4117-c3d8-dd253a9d42ff"
      },
      "source": [
        "arr = [ -16,-4, -2, -1, 0, 0.5, 1, 2,  4]\n",
        "tr_er , ts_er , whole_weights =[] ,[] , []\n",
        "iter=1000\n",
        "landa=-0.0001\n",
        "for i in range(len(arr)):\n",
        "    l = np.exp(arr[i])\n",
        "    features_arr = trainset[col].to_numpy()\n",
        "    features_arr = np.concatenate((np.ones((features_arr.shape[0], 1)), features_arr), axis=1)\n",
        "    class_arr = np.array(trainset['y']).reshape((-1,1))\n",
        "    weights = np.array([[0.0] for i in range(17)])\n",
        "    a = features_arr.transpose().dot(class_arr)\n",
        "    for i in range(iter):\n",
        "        b = (features_arr.transpose().dot(features_arr)).dot(weights)\n",
        "        c= l*weights\n",
        "        weights += landa*( -a + b + c )\n",
        "    whole_weights.append(weights)\n",
        "    tr_er.append(MSE_error(features_arr, class_arr, weights))\n",
        "    features_arr = testset[col].to_numpy()\n",
        "    features_arr = np.concatenate((np.ones((features_arr.shape[0], 1)), features_arr), axis=1)\n",
        "    class_arr = np.array(testset['y']).reshape((-1,1))\n",
        "    ts_er.append(MSE_error(features_arr, class_arr, weights))\n",
        "print(\"weights\")\n",
        "print(whole_weights[np.argmin(ts_er)])\n",
        "print(\"test error:\")\n",
        "print(ts_er[np.argmin(ts_er)])"
      ],
      "execution_count": null,
      "outputs": [
        {
          "output_type": "stream",
          "text": [
            "weights\n",
            "[[22.34524907]\n",
            " [ 2.61631715]\n",
            " [ 3.00494498]\n",
            " [-0.50951026]\n",
            " [ 0.76062637]\n",
            " [-2.40343301]\n",
            " [-0.8432983 ]\n",
            " [-2.70496452]\n",
            " [ 1.1362333 ]\n",
            " [ 1.18321989]\n",
            " [-0.98725637]\n",
            " [-2.87960265]\n",
            " [-3.71775369]\n",
            " [-1.07268667]\n",
            " [ 0.74215694]\n",
            " [ 2.08977357]\n",
            " [ 9.44433222]]\n",
            "test error:\n",
            "33.91071203494446\n"
          ],
          "name": "stdout"
        }
      ]
    },
    {
      "cell_type": "code",
      "metadata": {
        "colab": {
          "base_uri": "https://localhost:8080/",
          "height": 265
        },
        "id": "UuiLtjXB3XRb",
        "outputId": "48b08171-7d2d-46c4-9771-5ca3806c7309"
      },
      "source": [
        "plt.plot(arr, tr_er, label='training error' , color='red')\n",
        "plt.plot(arr, ts_er, label='test error',color='black')\n",
        "plt.legend()\n",
        "plt.show()"
      ],
      "execution_count": null,
      "outputs": [
        {
          "output_type": "display_data",
          "data": {
            "image/png": "[encoded data removed]",
            "text/plain": [
              "<Figure size 432x288 with 1 Axes>"
            ]
          },
          "metadata": {
            "tags": [],
            "needs_background": "light"
          }
        }
      ]
    },
    {
      "cell_type": "markdown",
      "metadata": {
        "id": "1jCHA9W77Iwl"
      },
      "source": [
        "**Cross Validation**"
      ]
    },
    {
      "cell_type": "code",
      "metadata": {
        "colab": {
          "base_uri": "https://localhost:8080/"
        },
        "id": "WMtFO_Ns7DM2",
        "outputId": "4017db3e-bc8f-42d7-fe05-c52f122b4cfb"
      },
      "source": [
        "dataset = pd.read_csv('SecondDataset.txt', delimiter = \"\\t\", header=None)\n",
        "dataset.columns = [\"x1\", \"x2\", \"x3\", \"y\"]\n",
        "dataset['x1x2'], dataset['x2x3'], dataset['x1x3'], dataset['x1x2x3'], dataset['x1x1x2'], dataset['x1x1x3'], dataset['x2x2x1'], dataset['x2x2x3'], dataset['x3x3x1'], dataset['x3x3x2'], dataset['x1x1x1'], dataset['x2x2x2'], dataset['x3x3x3'] = [dataset['x1']*dataset['x2'], dataset['x2']*dataset['x3'], dataset['x1']*dataset['x3'], dataset['x1']*dataset['x2']*dataset['x3'], dataset['x1']*dataset['x1']*dataset['x2'], dataset['x1']*dataset['x1']*dataset['x3'], dataset['x2']*dataset['x2']*dataset['x1'], dataset['x2']*dataset['x2']*dataset['x3'], dataset['x1']*dataset['x3']*dataset['x3'], dataset['x3']*dataset['x2']*dataset['x3'], dataset['x1']*dataset['x1']*dataset['x1'], dataset['x2']*dataset['x2']*dataset['x2'], dataset['x3']*dataset['x3']*dataset['x3']]\n",
        "col = dataset.columns[:3].append(dataset.columns[4:])\n",
        "dataset[col] = (dataset[col] - dataset[col].mean()) / dataset[col].std()\n",
        "trainset ,testset  = dataset[tr] ,dataset[ts]\n",
        "dataset = dataset.sample(frac=1)\n",
        "tr_er, ts_er, whole_weights = [] , [] ,[]\n",
        "for i in range(len(arr)):\n",
        "    l = np.exp(arr[i])\n",
        "    temp_tr , temp_ts = 0.0 , 0.0\n",
        "    for i in range(10):\n",
        "        testset = dataset[int(i*dataset.shape[0]/10):int((i+1)*dataset.shape[0]/10)]\n",
        "        trainset = dataset[:int(i*dataset.shape[0]/10)].append(dataset[int((i+1)*dataset.shape[0]/10):])\n",
        "        features_arr = trainset[col].to_numpy()\n",
        "        features_arr = np.concatenate((np.ones((features_arr.shape[0], 1)), features_arr), axis=1)\n",
        "        class_arr = np.array(trainset['y']).reshape((-1,1))\n",
        "        weights = np.array([[0.0] for i in range(17)])\n",
        "        for i in range(iter):\n",
        "            weights += landa*((features_arr.transpose().dot(features_arr)).dot(weights) - features_arr.transpose().dot(class_arr) + l*weights)\n",
        "        temp_tr += MSE_error(features_arr, class_arr, weights)/10\n",
        "        features_arr = testset[col].to_numpy()\n",
        "        features_arr = np.concatenate((np.ones((features_arr.shape[0], 1)), features_arr), axis=1)\n",
        "        class_arr = np.array(testset['y']).reshape((-1,1))\n",
        "        temp_ts += MSE_error(features_arr, class_arr, weights)/10\n",
        "    tr_er.append(temp_tr)\n",
        "    ts_er.append(temp_ts)\n",
        "    whole_weights.append(weights)\n",
        "print(\"weights:\")\n",
        "print(whole_weights[np.argmin(ts_er)])\n",
        "print(\"error:\")\n",
        "print(ts_er[np.argmin(ts_er)])\n",
        "print(\"behtarin zarib\")\n",
        "print(arr[np.argmin(ts_er)])\n"
      ],
      "execution_count": null,
      "outputs": [
        {
          "output_type": "stream",
          "text": [
            "weights:\n",
            "[[22.54745895]\n",
            " [ 2.61594508]\n",
            " [ 2.46089633]\n",
            " [-1.6142948 ]\n",
            " [ 0.73522315]\n",
            " [-2.50108176]\n",
            " [-0.84342273]\n",
            " [-2.67771113]\n",
            " [ 0.83840582]\n",
            " [ 0.83835256]\n",
            " [-1.1017148 ]\n",
            " [-2.46375158]\n",
            " [-3.44612363]\n",
            " [ 0.22266853]\n",
            " [ 1.10217245]\n",
            " [ 1.6210848 ]\n",
            " [ 9.69426039]]\n",
            "error:\n",
            "27.351106583804732\n",
            "behtarin zarib\n",
            "-16\n"
          ],
          "name": "stdout"
        }
      ]
    },
    {
      "cell_type": "code",
      "metadata": {
        "colab": {
          "base_uri": "https://localhost:8080/",
          "height": 265
        },
        "id": "-wIX0WCM7Hl_",
        "outputId": "6a293656-c9eb-4163-cb10-3a557bbe3f40"
      },
      "source": [
        "plt.plot(arr, tr_er, label='training error',color=\"red\")\n",
        "plt.plot(arr, ts_er, label='test error',color=\"black\")\n",
        "plt.legend()\n",
        "plt.show()"
      ],
      "execution_count": null,
      "outputs": [
        {
          "output_type": "display_data",
          "data": {
            "image/png": "[encoded data removed]",
            "text/plain": [
              "<Figure size 432x288 with 1 Axes>"
            ]
          },
          "metadata": {
            "tags": [],
            "needs_background": "light"
          }
        }
      ]
    }
  ]
}